{
 "cells": [
  {
   "cell_type": "code",
   "execution_count": 10,
   "metadata": {
    "collapsed": true
   },
   "outputs": [],
   "source": [
    "from selenium.webdriver.common.desired_capabilities import DesiredCapabilities\n",
    "from selenium import webdriver\n",
    "\n",
    "from time import sleep\n",
    "from tqdm import tqdm_notebook as tqdm"
   ]
  },
  {
   "cell_type": "code",
   "execution_count": 2,
   "metadata": {
    "collapsed": true
   },
   "outputs": [],
   "source": [
    "import requests\n",
    "from bs4 import BeautifulSoup as bs"
   ]
  },
  {
   "cell_type": "code",
   "execution_count": 90,
   "metadata": {
    "collapsed": true
   },
   "outputs": [],
   "source": [
    "get_inners = '''\n",
    "\n",
    "hashCode = function(s){\n",
    "  return s.split(\"\").reduce(function(a,b){a=((a<<5)-a)+b.charCodeAt(0);return a&a},0);              \n",
    "}\n",
    "\n",
    "probview = document.getElementsByClassName('prob_view');\n",
    "\n",
    "inners = [];\n",
    "\n",
    "for (i = 0; i < probview.length; i++) {\n",
    "  try {\n",
    "  task_id = probview[i].getElementsByTagName('a')[0].innerText;\n",
    "  \n",
    "  data = probview[i].firstChild.firstChild.firstChild.nextElementSibling;\n",
    "  \n",
    "  data_inner = data.innerHTML;\n",
    "  data_inner = data_inner.split(RegExp(' width=\".*?\"')).join('');\n",
    "  data_inner = data_inner.split(RegExp(' height=\".*?\"')).join('');\n",
    "  data_inner = data_inner.split(RegExp(' style=\".*?\"')).join('');\n",
    "  data_inner = data_inner.split(RegExp(' class=\".*?\"')).join('');\n",
    "  data_inner = data_inner.split(RegExp(' align=\".*?\"')).join('');\n",
    "  \n",
    "  hash = hashCode(data_inner);\n",
    "  \n",
    "  inners.push([hash, task_id]);\n",
    "  }\n",
    "  catch (e) {\n",
    "       console.log(e)\n",
    "    }\n",
    "}\n",
    "return inners\n",
    "'''"
   ]
  },
  {
   "cell_type": "code",
   "execution_count": 3,
   "metadata": {
    "collapsed": true
   },
   "outputs": [],
   "source": [
    "def write_html(name,content):\n",
    "    open(f'{name}.html','wb').write(content)"
   ]
  },
  {
   "cell_type": "code",
   "execution_count": 4,
   "metadata": {
    "collapsed": true
   },
   "outputs": [],
   "source": [
    "def get_task_innerHTML(task):\n",
    "    pattern = ' class=\"(.*?)\"'\n",
    "    \n",
    "    task_content = task.find('div').find('div').find_all('div')[1]\n",
    "    innerHTML = task_content.encode_contents().decode('utf-8')\n",
    "    return re.sub(pattern, '', innerHTML).replace('/>','>').replace('\\xa0','&nbsp;'), task.find('a')['href']"
   ]
  },
  {
   "cell_type": "code",
   "execution_count": 62,
   "metadata": {
    "collapsed": true
   },
   "outputs": [],
   "source": [
    "def get_tasks_from_theme(theme_url):\n",
    "    skip = 0\n",
    "    result = []\n",
    "    while True:\n",
    "        res = requests.post(theme_url,data = {'ajax':1,'skip':skip})\n",
    "        soup = bs(res.content, 'lxml')\n",
    "        tasks = soup.find_all('div', {'class': 'prob_view'})\n",
    "        if len(tasks) == 0:\n",
    "            break\n",
    "        result.append(res.content)\n",
    "        skip += 5\n",
    "    \n",
    "    concated = ''\n",
    "    for task_block in result:\n",
    "        concated += task_block.decode('utf-8')\n",
    "    \n",
    "    return concated"
   ]
  },
  {
   "cell_type": "code",
   "execution_count": null,
   "metadata": {
    "collapsed": true
   },
   "outputs": [],
   "source": [
    "def update_page_source(task_block):\n",
    "    current_html = driver.find_element_by_tag_name(\"html\")\n",
    "    driver.execute_script(\"arguments[0].innerHTML = arguments[1]\", current_html, task_block)\n"
   ]
  },
  {
   "cell_type": "code",
   "execution_count": 11,
   "metadata": {},
   "outputs": [],
   "source": [
    "driver = webdriver.Chrome()"
   ]
  },
  {
   "cell_type": "code",
   "execution_count": 52,
   "metadata": {
    "collapsed": true
   },
   "outputs": [],
   "source": [
    "theme_links = [a for a, b in [i.split('|||') for i in open('themes_list.txt','r').read().split('\\n')] if b !='0']"
   ]
  },
  {
   "cell_type": "code",
   "execution_count": null,
   "metadata": {},
   "outputs": [
    {
     "data": {
      "application/vnd.jupyter.widget-view+json": {
       "model_id": "5372d7a159004ed6abe0d14a54cdfe80",
       "version_major": 2,
       "version_minor": 0
      },
      "text/plain": [
       "A Jupyter Widget"
      ]
     },
     "metadata": {},
     "output_type": "display_data"
    }
   ],
   "source": [
    "inners_dataset = []\n",
    "for url in tqdm(theme_links):\n",
    "    tasks_concated = get_tasks_from_theme(url)\n",
    "    update_page_source(tasks_concated)\n",
    "    sleep(0.1)\n",
    "    inners = driver.execute_script(get_inners)\n",
    "    inners_dataset += inners"
   ]
  },
  {
   "cell_type": "code",
   "execution_count": 84,
   "metadata": {},
   "outputs": [
    {
     "data": {
      "text/plain": [
       "10012"
      ]
     },
     "execution_count": 84,
     "metadata": {},
     "output_type": "execute_result"
    }
   ],
   "source": [
    "len(inners_dataset)"
   ]
  },
  {
   "cell_type": "code",
   "execution_count": null,
   "metadata": {
    "collapsed": true
   },
   "outputs": [],
   "source": [
    "driver.quit()"
   ]
  },
  {
   "cell_type": "code",
   "execution_count": 82,
   "metadata": {},
   "outputs": [],
   "source": [
    "a = get_tasks_from_theme(theme_links[331])"
   ]
  },
  {
   "cell_type": "code",
   "execution_count": 83,
   "metadata": {},
   "outputs": [],
   "source": [
    "update_page_source(a)"
   ]
  },
  {
   "cell_type": "code",
   "execution_count": 99,
   "metadata": {},
   "outputs": [
    {
     "data": {
      "text/plain": [
       "33689"
      ]
     },
     "execution_count": 99,
     "metadata": {},
     "output_type": "execute_result"
    }
   ],
   "source": [
    "len(list(set([a for a, b in inners_dataset])))"
   ]
  },
  {
   "cell_type": "code",
   "execution_count": 91,
   "metadata": {},
   "outputs": [
    {
     "data": {
      "text/plain": [
       "[[-630495975, '9985'],\n",
       " [-2044552141, '10264'],\n",
       " [-1422063601, '10265'],\n",
       " [-1771832858, '10266'],\n",
       " [1532597076, '10267'],\n",
       " [-215930294, '10268'],\n",
       " [-162988918, '10269'],\n",
       " [-1381197821, '10270'],\n",
       " [2034535759, '10271'],\n",
       " [584568807, '10272'],\n",
       " [-49030824, '10273'],\n",
       " [576690568, '10274'],\n",
       " [-653005661, '10352'],\n",
       " [1609322978, '10377'],\n",
       " [1010305485, '10402'],\n",
       " [224712192, '10427'],\n",
       " [912954708, '10645'],\n",
       " [1920706632, '10670'],\n",
       " [-2141554325, '10764'],\n",
       " [1729935538, '10789'],\n",
       " [-1518069058, '10822'],\n",
       " [-1768540758, '10874'],\n",
       " [430625834, '10899'],\n",
       " [2138143308, '10952'],\n",
       " [-1121017512, '12349'],\n",
       " [-1407383417, '12376'],\n",
       " [-1065106545, '12401'],\n",
       " [-997256472, '12426'],\n",
       " [1120634187, '12453'],\n",
       " [-1982484611, '12478'],\n",
       " [627356095, '12503'],\n",
       " [-130597920, '12529'],\n",
       " [-1641164705, '12554'],\n",
       " [193637728, '12579'],\n",
       " [-85950404, '12604'],\n",
       " [686444886, '12629'],\n",
       " [-1625369558, '12758'],\n",
       " [1454455631, '12784'],\n",
       " [1237500023, '12816'],\n",
       " [191699518, '12842'],\n",
       " [2036956628, '13724'],\n",
       " [1952730169, '13759'],\n",
       " [-780314582, '13785'],\n",
       " [926830885, '13811'],\n",
       " [-1043926280, '13837'],\n",
       " [119490440, '13868'],\n",
       " [513514095, '13894'],\n",
       " [686444886, '14062'],\n",
       " [2041344941, '14866'],\n",
       " [-1399996417, '14894'],\n",
       " [-804264726, '14928'],\n",
       " [933628795, '14955'],\n",
       " [-835955378, '16713'],\n",
       " [-1866044814, '16740'],\n",
       " [-1193030940, '16862'],\n",
       " [76606584, '16974'],\n",
       " [-866033743, '17001'],\n",
       " [379667386, '17056'],\n",
       " [315816742, '17201'],\n",
       " [-1017394568, '18071'],\n",
       " [-1044307514, '18100'],\n",
       " [1427941737, '18179'],\n",
       " [844935331, '18207'],\n",
       " [461922492, '18943'],\n",
       " [-1007823754, '19028'],\n",
       " [762609651, '24301'],\n",
       " [1366203346, '24490']]"
      ]
     },
     "execution_count": 91,
     "metadata": {},
     "output_type": "execute_result"
    }
   ],
   "source": [
    "driver.execute_script(get_inners)"
   ]
  },
  {
   "cell_type": "code",
   "execution_count": null,
   "metadata": {
    "collapsed": true
   },
   "outputs": [],
   "source": []
  },
  {
   "cell_type": "code",
   "execution_count": null,
   "metadata": {},
   "outputs": [],
   "source": [
    "import json\n",
    "with open('all.json', 'w') as fp:\n",
    "    json.dump(inners_dataset, fp)"
   ]
  },
  {
   "cell_type": "code",
   "execution_count": 24,
   "metadata": {
    "collapsed": true
   },
   "outputs": [],
   "source": [
    "with open('hash_id_dict.json', 'r') as f:\n",
    "    distros_dict = json.load(f)"
   ]
  },
  {
   "cell_type": "code",
   "execution_count": 30,
   "metadata": {},
   "outputs": [
    {
     "data": {
      "text/plain": [
       "828403"
      ]
     },
     "execution_count": 30,
     "metadata": {},
     "output_type": "execute_result"
    }
   ],
   "source": [
    "open('dict_in_txt.txt', 'w').write(str(distros_dict))"
   ]
  },
  {
   "cell_type": "code",
   "execution_count": null,
   "metadata": {
    "collapsed": true
   },
   "outputs": [],
   "source": []
  }
 ],
 "metadata": {
  "kernelspec": {
   "display_name": "Python 3",
   "language": "python",
   "name": "python3"
  },
  "language_info": {
   "codemirror_mode": {
    "name": "ipython",
    "version": 3
   },
   "file_extension": ".py",
   "mimetype": "text/x-python",
   "name": "python",
   "nbconvert_exporter": "python",
   "pygments_lexer": "ipython3",
   "version": "3.6.3"
  }
 },
 "nbformat": 4,
 "nbformat_minor": 2
}
