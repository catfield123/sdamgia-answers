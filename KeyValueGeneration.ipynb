{
 "cells": [
  {
   "cell_type": "code",
   "execution_count": null,
   "metadata": {
    "collapsed": true
   },
   "outputs": [],
   "source": [
    "from bs4 import BeautifulSoup as bs\n",
    "import requests\n",
    "\n",
    "import js2py\n",
    "from utils import getHash\n",
    "\n",
    "from tqdm import tqdm_notebook as tqdm"
   ]
  },
  {
   "cell_type": "code",
   "execution_count": 56,
   "metadata": {
    "collapsed": true
   },
   "outputs": [],
   "source": [
    "def get_tasks_from_theme(theme_url):\n",
    "    skip = 0\n",
    "    result = []\n",
    "    while True:\n",
    "        res = requests.post(theme_url,data = {'ajax':1,'skip':skip})\n",
    "        soup = bs(res.content, 'lxml')\n",
    "        tasks = soup.find_all('div', {'class': 'prob_view'})\n",
    "        if len(tasks) == 0:\n",
    "            break\n",
    "        result += tasks\n",
    "        skip += 5\n",
    "        \n",
    "    return result"
   ]
  },
  {
   "cell_type": "code",
   "execution_count": 134,
   "metadata": {
    "collapsed": true
   },
   "outputs": [],
   "source": [
    "def get_hash_from_task(task):\n",
    "    task_content = task.findChild().findChild().findChild().nextSibling()[0]\n",
    "    \n",
    "    task_img_srcs = ''.join([img['src'] for img in task_content.find_all('img')])\n",
    "    task_text = task_content.text\n",
    "    text_merged = task_img_srcs + task_text\n",
    "    text_merged = text_merged.replace('\\xa0', '').replace(' ', '')\n",
    "    \n",
    "    text_for_hash = ''.join(sorted(text_merged))\n",
    "    hashed = getHash(text_for_hash)\n",
    "    \n",
    "    return hashed"
   ]
  },
  {
   "cell_type": "code",
   "execution_count": 158,
   "metadata": {
    "collapsed": true
   },
   "outputs": [],
   "source": [
    "def get_task_number(task):\n",
    "    return task.findChild().findChild().findChild().find('a').text"
   ]
  },
  {
   "cell_type": "code",
   "execution_count": 4,
   "metadata": {
    "collapsed": true
   },
   "outputs": [],
   "source": [
    "theme_links = [a for a, b in [i.split('|||') for i in open('themes_list.txt','r').read().split('\\n')] if b !='0']"
   ]
  },
  {
   "cell_type": "code",
   "execution_count": 165,
   "metadata": {},
   "outputs": [
    {
     "data": {
      "application/vnd.jupyter.widget-view+json": {
       "model_id": "399a012258004d8b89ccd43a3db8e33d",
       "version_major": 2,
       "version_minor": 0
      },
      "text/plain": [
       "A Jupyter Widget"
      ]
     },
     "metadata": {},
     "output_type": "display_data"
    },
    {
     "name": "stdout",
     "output_type": "stream",
     "text": [
      "\n"
     ]
    }
   ],
   "source": [
    "inners_dataset = []\n",
    "for url in tqdm(theme_links[:5]):\n",
    "    tasks = get_tasks_from_theme(url)\n",
    "    \n",
    "    inners = []\n",
    "    for task in tasks:\n",
    "        task_hash = get_hash_from_task(task)\n",
    "        task_number = get_task_number(task)\n",
    "        inners.append([task_hash, task_number])\n",
    "    inners_dataset += inners"
   ]
  },
  {
   "cell_type": "code",
   "execution_count": null,
   "metadata": {
    "collapsed": true
   },
   "outputs": [],
   "source": []
  },
  {
   "cell_type": "code",
   "execution_count": null,
   "metadata": {
    "collapsed": true
   },
   "outputs": [],
   "source": [
    "# import json\n",
    "# with open('all.json', 'w') as fp:\n",
    "#     json.dump(inners_dataset, fp)"
   ]
  },
  {
   "cell_type": "code",
   "execution_count": 24,
   "metadata": {
    "collapsed": true
   },
   "outputs": [],
   "source": [
    "# with open('hash_id_dict.json', 'r') as f:\n",
    "#     distros_dict = json.load(f)"
   ]
  },
  {
   "cell_type": "code",
   "execution_count": 30,
   "metadata": {},
   "outputs": [
    {
     "data": {
      "text/plain": [
       "828403"
      ]
     },
     "execution_count": 30,
     "metadata": {},
     "output_type": "execute_result"
    }
   ],
   "source": [
    "# open('dict_in_txt.txt', 'w').write(str(distros_dict))"
   ]
  }
 ],
 "metadata": {
  "kernelspec": {
   "display_name": "Python 3",
   "language": "python",
   "name": "python3"
  },
  "language_info": {
   "codemirror_mode": {
    "name": "ipython",
    "version": 3
   },
   "file_extension": ".py",
   "mimetype": "text/x-python",
   "name": "python",
   "nbconvert_exporter": "python",
   "pygments_lexer": "ipython3",
   "version": "3.6.3"
  }
 },
 "nbformat": 4,
 "nbformat_minor": 2
}
