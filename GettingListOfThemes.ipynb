{
 "cells": [
  {
   "cell_type": "code",
   "execution_count": 68,
   "metadata": {
    "collapsed": true
   },
   "outputs": [],
   "source": [
    "import requests\n",
    "from bs4 import BeautifulSoup as bs\n",
    "\n",
    "from pandas import Serieses"
   ]
  },
  {
   "cell_type": "code",
   "execution_count": 33,
   "metadata": {
    "collapsed": true
   },
   "outputs": [],
   "source": [
    "ulr = 'https://ege.sdamgia.ru/'"
   ]
  },
  {
   "cell_type": "code",
   "execution_count": 34,
   "metadata": {
    "collapsed": true
   },
   "outputs": [],
   "source": [
    "res = requests.get(url)\n",
    "soup = bs(res.content, 'lxml')"
   ]
  },
  {
   "cell_type": "code",
   "execution_count": 39,
   "metadata": {
    "collapsed": true
   },
   "outputs": [],
   "source": [
    "subject_urls = [a['href'] for a in soup.find_all('a', {'class': 'subjhr'})]"
   ]
  },
  {
   "cell_type": "code",
   "execution_count": 113,
   "metadata": {
    "collapsed": true
   },
   "outputs": [],
   "source": [
    "def get_themes_from_subject_url(subject_url):\n",
    "    res = requests.get(subject_url)\n",
    "    soup = bs(res.content, 'lxml')\n",
    "    table = soup.find('table',{'class', 'zebra'})\n",
    "    all_a = table.find_all('a')\n",
    "    \n",
    "    new_url = '/'.join(subject_url.split('/')[:3])\n",
    "    a_with_href = [a for a in all_a if 'javascript' not in a['href']]\n",
    "    \n",
    "    theme_hrefs = []\n",
    "    for a in a_with_href:\n",
    "        theme_hrefs.append([new_url+a['href'],''.join([i for i in a.text if i.isdigit()])])\n",
    "    \n",
    "    return theme_hrefs"
   ]
  },
  {
   "cell_type": "code",
   "execution_count": 114,
   "metadata": {
    "collapsed": true
   },
   "outputs": [],
   "source": [
    "all_themes = []\n",
    "for subject in subject_urls:\n",
    "    all_themes += get_themes_from_subject_url(subject)"
   ]
  },
  {
   "cell_type": "code",
   "execution_count": 119,
   "metadata": {
    "collapsed": true
   },
   "outputs": [],
   "source": [
    "with open('themes_list.txt', 'w') as txt:\n",
    "    for i in range(len(all_themes)):\n",
    "        if i != len(all_themes)-1:\n",
    "            txt.write(all_themes[i][0] + '|||' + all_themes[i][1] + '\\n')\n",
    "        else:\n",
    "            txt.write(all_themes[i][0] + '|||' + all_themes[i][1])"
   ]
  }
 ],
 "metadata": {
  "kernelspec": {
   "display_name": "Python 3",
   "language": "python",
   "name": "python3"
  },
  "language_info": {
   "codemirror_mode": {
    "name": "ipython",
    "version": 3
   },
   "file_extension": ".py",
   "mimetype": "text/x-python",
   "name": "python",
   "nbconvert_exporter": "python",
   "pygments_lexer": "ipython3",
   "version": "3.6.3"
  }
 },
 "nbformat": 4,
 "nbformat_minor": 2
}
